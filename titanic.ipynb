{
  "nbformat": 4,
  "nbformat_minor": 0,
  "metadata": {
    "colab": {
      "name": "titanic.ipynb",
      "provenance": [],
      "collapsed_sections": [],
      "mount_file_id": "1id046ZaamNWK1hDj2ez3vrA2aReifLnW",
      "authorship_tag": "ABX9TyORjx1McuJIiWhQ4eukQ4uZ",
      "include_colab_link": true
    },
    "kernelspec": {
      "name": "python3",
      "display_name": "Python 3"
    },
    "language_info": {
      "name": "python"
    }
  },
  "cells": [
    {
      "cell_type": "markdown",
      "metadata": {
        "id": "view-in-github",
        "colab_type": "text"
      },
      "source": [
        "<a href=\"https://colab.research.google.com/github/mefardales/Google_colab/blob/main/titanic.ipynb\" target=\"_parent\"><img src=\"https://colab.research.google.com/assets/colab-badge.svg\" alt=\"Open In Colab\"/></a>"
      ]
    },
    {
      "cell_type": "code",
      "metadata": {
        "id": "OZTh5DuNAneg"
      },
      "source": [
        "import pandas as pd"
      ],
      "execution_count": 2,
      "outputs": []
    },
    {
      "cell_type": "code",
      "metadata": {
        "id": "f9MuyupiAyY1"
      },
      "source": [
        "#loading dataset\n",
        "df = pd.read_csv('/content/drive/MyDrive/ml/dataset/train_and_test2.csv') "
      ],
      "execution_count": 3,
      "outputs": []
    },
    {
      "cell_type": "code",
      "metadata": {
        "id": "9UzYzP7TBciL",
        "colab": {
          "base_uri": "https://localhost:8080/",
          "height": 204
        },
        "outputId": "ae5d6182-6800-4fde-a28f-f1728c905437"
      },
      "source": [
        "df.head()"
      ],
      "execution_count": null,
      "outputs": [
        {
          "output_type": "execute_result",
          "data": {
            "text/html": [
              "<div>\n",
              "<style scoped>\n",
              "    .dataframe tbody tr th:only-of-type {\n",
              "        vertical-align: middle;\n",
              "    }\n",
              "\n",
              "    .dataframe tbody tr th {\n",
              "        vertical-align: top;\n",
              "    }\n",
              "\n",
              "    .dataframe thead th {\n",
              "        text-align: right;\n",
              "    }\n",
              "</style>\n",
              "<table border=\"1\" class=\"dataframe\">\n",
              "  <thead>\n",
              "    <tr style=\"text-align: right;\">\n",
              "      <th></th>\n",
              "      <th>PassengerId</th>\n",
              "      <th>Survived</th>\n",
              "      <th>Pclass</th>\n",
              "      <th>Name</th>\n",
              "      <th>Sex</th>\n",
              "      <th>Age</th>\n",
              "      <th>SibSp</th>\n",
              "      <th>Parch</th>\n",
              "      <th>Ticket</th>\n",
              "      <th>Fare</th>\n",
              "      <th>Cabin</th>\n",
              "      <th>Embarked</th>\n",
              "    </tr>\n",
              "  </thead>\n",
              "  <tbody>\n",
              "    <tr>\n",
              "      <th>0</th>\n",
              "      <td>892</td>\n",
              "      <td>0</td>\n",
              "      <td>3</td>\n",
              "      <td>Kelly, Mr. James</td>\n",
              "      <td>male</td>\n",
              "      <td>34.5</td>\n",
              "      <td>0</td>\n",
              "      <td>0</td>\n",
              "      <td>330911</td>\n",
              "      <td>7.8292</td>\n",
              "      <td>NaN</td>\n",
              "      <td>Q</td>\n",
              "    </tr>\n",
              "    <tr>\n",
              "      <th>1</th>\n",
              "      <td>893</td>\n",
              "      <td>1</td>\n",
              "      <td>3</td>\n",
              "      <td>Wilkes, Mrs. James (Ellen Needs)</td>\n",
              "      <td>female</td>\n",
              "      <td>47.0</td>\n",
              "      <td>1</td>\n",
              "      <td>0</td>\n",
              "      <td>363272</td>\n",
              "      <td>7.0000</td>\n",
              "      <td>NaN</td>\n",
              "      <td>S</td>\n",
              "    </tr>\n",
              "    <tr>\n",
              "      <th>2</th>\n",
              "      <td>894</td>\n",
              "      <td>0</td>\n",
              "      <td>2</td>\n",
              "      <td>Myles, Mr. Thomas Francis</td>\n",
              "      <td>male</td>\n",
              "      <td>62.0</td>\n",
              "      <td>0</td>\n",
              "      <td>0</td>\n",
              "      <td>240276</td>\n",
              "      <td>9.6875</td>\n",
              "      <td>NaN</td>\n",
              "      <td>Q</td>\n",
              "    </tr>\n",
              "    <tr>\n",
              "      <th>3</th>\n",
              "      <td>895</td>\n",
              "      <td>0</td>\n",
              "      <td>3</td>\n",
              "      <td>Wirz, Mr. Albert</td>\n",
              "      <td>male</td>\n",
              "      <td>27.0</td>\n",
              "      <td>0</td>\n",
              "      <td>0</td>\n",
              "      <td>315154</td>\n",
              "      <td>8.6625</td>\n",
              "      <td>NaN</td>\n",
              "      <td>S</td>\n",
              "    </tr>\n",
              "    <tr>\n",
              "      <th>4</th>\n",
              "      <td>896</td>\n",
              "      <td>1</td>\n",
              "      <td>3</td>\n",
              "      <td>Hirvonen, Mrs. Alexander (Helga E Lindqvist)</td>\n",
              "      <td>female</td>\n",
              "      <td>22.0</td>\n",
              "      <td>1</td>\n",
              "      <td>1</td>\n",
              "      <td>3101298</td>\n",
              "      <td>12.2875</td>\n",
              "      <td>NaN</td>\n",
              "      <td>S</td>\n",
              "    </tr>\n",
              "  </tbody>\n",
              "</table>\n",
              "</div>"
            ],
            "text/plain": [
              "   PassengerId  Survived  Pclass  ...     Fare Cabin  Embarked\n",
              "0          892         0       3  ...   7.8292   NaN         Q\n",
              "1          893         1       3  ...   7.0000   NaN         S\n",
              "2          894         0       2  ...   9.6875   NaN         Q\n",
              "3          895         0       3  ...   8.6625   NaN         S\n",
              "4          896         1       3  ...  12.2875   NaN         S\n",
              "\n",
              "[5 rows x 12 columns]"
            ]
          },
          "metadata": {},
          "execution_count": 94
        }
      ]
    },
    {
      "cell_type": "code",
      "metadata": {
        "colab": {
          "base_uri": "https://localhost:8080/"
        },
        "id": "p7s7h35_CvkH",
        "outputId": "3cee30e9-07c0-4e4f-ad73-76cdfcbdce40"
      },
      "source": [
        "df.info()"
      ],
      "execution_count": null,
      "outputs": [
        {
          "output_type": "stream",
          "name": "stdout",
          "text": [
            "<class 'pandas.core.frame.DataFrame'>\n",
            "RangeIndex: 1000 entries, 0 to 999\n",
            "Data columns (total 17 columns):\n",
            " #   Column                   Non-Null Count  Dtype  \n",
            "---  ------                   --------------  -----  \n",
            " 0   Invoice ID               1000 non-null   object \n",
            " 1   Branch                   1000 non-null   object \n",
            " 2   City                     1000 non-null   object \n",
            " 3   Customer type            1000 non-null   object \n",
            " 4   Gender                   1000 non-null   object \n",
            " 5   Product line             1000 non-null   object \n",
            " 6   Unit price               1000 non-null   float64\n",
            " 7   Quantity                 1000 non-null   int64  \n",
            " 8   Tax 5%                   1000 non-null   float64\n",
            " 9   Total                    1000 non-null   float64\n",
            " 10  Date                     1000 non-null   object \n",
            " 11  Time                     1000 non-null   object \n",
            " 12  Payment                  1000 non-null   object \n",
            " 13  cogs                     1000 non-null   float64\n",
            " 14  gross margin percentage  1000 non-null   float64\n",
            " 15  gross income             1000 non-null   float64\n",
            " 16  Rating                   1000 non-null   float64\n",
            "dtypes: float64(7), int64(1), object(9)\n",
            "memory usage: 132.9+ KB\n"
          ]
        }
      ]
    },
    {
      "cell_type": "code",
      "metadata": {
        "colab": {
          "base_uri": "https://localhost:8080/"
        },
        "id": "gVJiS2zbC-M_",
        "outputId": "4108bf9d-03fa-400e-c2d1-eba5e70a3bbd"
      },
      "source": [
        "df['Gender'].value_counts()"
      ],
      "execution_count": null,
      "outputs": [
        {
          "output_type": "execute_result",
          "data": {
            "text/plain": [
              "Female    501\n",
              "Male      499\n",
              "Name: Gender, dtype: int64"
            ]
          },
          "metadata": {},
          "execution_count": 11
        }
      ]
    },
    {
      "cell_type": "code",
      "metadata": {
        "colab": {
          "base_uri": "https://localhost:8080/",
          "height": 297
        },
        "id": "TiNle62TDZ18",
        "outputId": "acc43c26-d9b4-4717-e175-34ff75b6ec52"
      },
      "source": [
        "df.describe()"
      ],
      "execution_count": null,
      "outputs": [
        {
          "output_type": "execute_result",
          "data": {
            "text/html": [
              "<div>\n",
              "<style scoped>\n",
              "    .dataframe tbody tr th:only-of-type {\n",
              "        vertical-align: middle;\n",
              "    }\n",
              "\n",
              "    .dataframe tbody tr th {\n",
              "        vertical-align: top;\n",
              "    }\n",
              "\n",
              "    .dataframe thead th {\n",
              "        text-align: right;\n",
              "    }\n",
              "</style>\n",
              "<table border=\"1\" class=\"dataframe\">\n",
              "  <thead>\n",
              "    <tr style=\"text-align: right;\">\n",
              "      <th></th>\n",
              "      <th>Unit price</th>\n",
              "      <th>Quantity</th>\n",
              "      <th>Tax 5%</th>\n",
              "      <th>Total</th>\n",
              "      <th>cogs</th>\n",
              "      <th>gross margin percentage</th>\n",
              "      <th>gross income</th>\n",
              "      <th>Rating</th>\n",
              "    </tr>\n",
              "  </thead>\n",
              "  <tbody>\n",
              "    <tr>\n",
              "      <th>count</th>\n",
              "      <td>1000.000000</td>\n",
              "      <td>1000.000000</td>\n",
              "      <td>1000.000000</td>\n",
              "      <td>1000.000000</td>\n",
              "      <td>1000.00000</td>\n",
              "      <td>1.000000e+03</td>\n",
              "      <td>1000.000000</td>\n",
              "      <td>1000.00000</td>\n",
              "    </tr>\n",
              "    <tr>\n",
              "      <th>mean</th>\n",
              "      <td>55.672130</td>\n",
              "      <td>5.510000</td>\n",
              "      <td>15.379369</td>\n",
              "      <td>322.966749</td>\n",
              "      <td>307.58738</td>\n",
              "      <td>4.761905e+00</td>\n",
              "      <td>15.379369</td>\n",
              "      <td>6.97270</td>\n",
              "    </tr>\n",
              "    <tr>\n",
              "      <th>std</th>\n",
              "      <td>26.494628</td>\n",
              "      <td>2.923431</td>\n",
              "      <td>11.708825</td>\n",
              "      <td>245.885335</td>\n",
              "      <td>234.17651</td>\n",
              "      <td>6.220360e-14</td>\n",
              "      <td>11.708825</td>\n",
              "      <td>1.71858</td>\n",
              "    </tr>\n",
              "    <tr>\n",
              "      <th>min</th>\n",
              "      <td>10.080000</td>\n",
              "      <td>1.000000</td>\n",
              "      <td>0.508500</td>\n",
              "      <td>10.678500</td>\n",
              "      <td>10.17000</td>\n",
              "      <td>4.761905e+00</td>\n",
              "      <td>0.508500</td>\n",
              "      <td>4.00000</td>\n",
              "    </tr>\n",
              "    <tr>\n",
              "      <th>25%</th>\n",
              "      <td>32.875000</td>\n",
              "      <td>3.000000</td>\n",
              "      <td>5.924875</td>\n",
              "      <td>124.422375</td>\n",
              "      <td>118.49750</td>\n",
              "      <td>4.761905e+00</td>\n",
              "      <td>5.924875</td>\n",
              "      <td>5.50000</td>\n",
              "    </tr>\n",
              "    <tr>\n",
              "      <th>50%</th>\n",
              "      <td>55.230000</td>\n",
              "      <td>5.000000</td>\n",
              "      <td>12.088000</td>\n",
              "      <td>253.848000</td>\n",
              "      <td>241.76000</td>\n",
              "      <td>4.761905e+00</td>\n",
              "      <td>12.088000</td>\n",
              "      <td>7.00000</td>\n",
              "    </tr>\n",
              "    <tr>\n",
              "      <th>75%</th>\n",
              "      <td>77.935000</td>\n",
              "      <td>8.000000</td>\n",
              "      <td>22.445250</td>\n",
              "      <td>471.350250</td>\n",
              "      <td>448.90500</td>\n",
              "      <td>4.761905e+00</td>\n",
              "      <td>22.445250</td>\n",
              "      <td>8.50000</td>\n",
              "    </tr>\n",
              "    <tr>\n",
              "      <th>max</th>\n",
              "      <td>99.960000</td>\n",
              "      <td>10.000000</td>\n",
              "      <td>49.650000</td>\n",
              "      <td>1042.650000</td>\n",
              "      <td>993.00000</td>\n",
              "      <td>4.761905e+00</td>\n",
              "      <td>49.650000</td>\n",
              "      <td>10.00000</td>\n",
              "    </tr>\n",
              "  </tbody>\n",
              "</table>\n",
              "</div>"
            ],
            "text/plain": [
              "        Unit price     Quantity  ...  gross income      Rating\n",
              "count  1000.000000  1000.000000  ...   1000.000000  1000.00000\n",
              "mean     55.672130     5.510000  ...     15.379369     6.97270\n",
              "std      26.494628     2.923431  ...     11.708825     1.71858\n",
              "min      10.080000     1.000000  ...      0.508500     4.00000\n",
              "25%      32.875000     3.000000  ...      5.924875     5.50000\n",
              "50%      55.230000     5.000000  ...     12.088000     7.00000\n",
              "75%      77.935000     8.000000  ...     22.445250     8.50000\n",
              "max      99.960000    10.000000  ...     49.650000    10.00000\n",
              "\n",
              "[8 rows x 8 columns]"
            ]
          },
          "metadata": {},
          "execution_count": 9
        }
      ]
    },
    {
      "cell_type": "code",
      "metadata": {
        "id": "0AKOvftpDd0M"
      },
      "source": [
        "# To plot pretty figures\n",
        "%matplotlib inline\n",
        "import matplotlib as mpl\n",
        "import  matplotlib.pyplot as plt\n",
        "mpl.rc('axes', labelsize=14)\n",
        "mpl.rc('xtick', labelsize=12)\n",
        "mpl.rc('ytick', labelsize=12)"
      ],
      "execution_count": null,
      "outputs": []
    },
    {
      "cell_type": "code",
      "metadata": {
        "colab": {
          "base_uri": "https://localhost:8080/",
          "height": 781
        },
        "id": "5NPzxP3BD88n",
        "outputId": "058066c5-3f95-47d1-c3f7-6d5b936c59b2"
      },
      "source": [
        "df.hist(bins=50, figsize=(20,15))"
      ],
      "execution_count": null,
      "outputs": [
        {
          "output_type": "display_data",
          "data": {
            "image/png": "[encoded data removed]",
            "text/plain": [
              "<Figure size 1440x1080 with 9 Axes>"
            ]
          },
          "metadata": {
            "needs_background": "light"
          }
        }
      ]
    },
    {
      "cell_type": "code",
      "metadata": {
        "id": "MhPlZR3WEJLv"
      },
      "source": [
        "#creating a train test set\n",
        "from sklearn.model_selection import train_test_split"
      ],
      "execution_count": null,
      "outputs": []
    },
    {
      "cell_type": "code",
      "metadata": {
        "id": "1LBkC3URIR5V"
      },
      "source": [
        "train_set, test_set = train_test_split(df, test_size=0.2, random_state=42)"
      ],
      "execution_count": null,
      "outputs": []
    },
    {
      "cell_type": "code",
      "metadata": {
        "colab": {
          "base_uri": "https://localhost:8080/",
          "height": 343
        },
        "id": "r2M9PQNQIdDM",
        "outputId": "a99a7eec-23fc-4c3c-dc77-0cd93048e556"
      },
      "source": [
        "train_set.head()"
      ],
      "execution_count": null,
      "outputs": [
        {
          "output_type": "execute_result",
          "data": {
            "text/html": [
              "<div>\n",
              "<style scoped>\n",
              "    .dataframe tbody tr th:only-of-type {\n",
              "        vertical-align: middle;\n",
              "    }\n",
              "\n",
              "    .dataframe tbody tr th {\n",
              "        vertical-align: top;\n",
              "    }\n",
              "\n",
              "    .dataframe thead th {\n",
              "        text-align: right;\n",
              "    }\n",
              "</style>\n",
              "<table border=\"1\" class=\"dataframe\">\n",
              "  <thead>\n",
              "    <tr style=\"text-align: right;\">\n",
              "      <th></th>\n",
              "      <th>Invoice ID</th>\n",
              "      <th>Branch</th>\n",
              "      <th>City</th>\n",
              "      <th>Customer type</th>\n",
              "      <th>Gender</th>\n",
              "      <th>Product line</th>\n",
              "      <th>Unit price</th>\n",
              "      <th>Quantity</th>\n",
              "      <th>Tax 5%</th>\n",
              "      <th>Total</th>\n",
              "      <th>Date</th>\n",
              "      <th>Time</th>\n",
              "      <th>Payment</th>\n",
              "      <th>cogs</th>\n",
              "      <th>gross margin percentage</th>\n",
              "      <th>gross income</th>\n",
              "      <th>Rating</th>\n",
              "    </tr>\n",
              "  </thead>\n",
              "  <tbody>\n",
              "    <tr>\n",
              "      <th>29</th>\n",
              "      <td>848-62-7243</td>\n",
              "      <td>A</td>\n",
              "      <td>Yangon</td>\n",
              "      <td>Normal</td>\n",
              "      <td>Male</td>\n",
              "      <td>Health and beauty</td>\n",
              "      <td>24.89</td>\n",
              "      <td>9</td>\n",
              "      <td>11.2005</td>\n",
              "      <td>235.2105</td>\n",
              "      <td>3/15/2019</td>\n",
              "      <td>15:36</td>\n",
              "      <td>Cash</td>\n",
              "      <td>224.01</td>\n",
              "      <td>4.761905</td>\n",
              "      <td>11.2005</td>\n",
              "      <td>7.4</td>\n",
              "    </tr>\n",
              "    <tr>\n",
              "      <th>535</th>\n",
              "      <td>583-41-4548</td>\n",
              "      <td>C</td>\n",
              "      <td>Naypyitaw</td>\n",
              "      <td>Normal</td>\n",
              "      <td>Male</td>\n",
              "      <td>Home and lifestyle</td>\n",
              "      <td>16.67</td>\n",
              "      <td>7</td>\n",
              "      <td>5.8345</td>\n",
              "      <td>122.5245</td>\n",
              "      <td>2/7/2019</td>\n",
              "      <td>11:36</td>\n",
              "      <td>Ewallet</td>\n",
              "      <td>116.69</td>\n",
              "      <td>4.761905</td>\n",
              "      <td>5.8345</td>\n",
              "      <td>7.4</td>\n",
              "    </tr>\n",
              "    <tr>\n",
              "      <th>695</th>\n",
              "      <td>800-09-8606</td>\n",
              "      <td>A</td>\n",
              "      <td>Yangon</td>\n",
              "      <td>Member</td>\n",
              "      <td>Female</td>\n",
              "      <td>Home and lifestyle</td>\n",
              "      <td>87.37</td>\n",
              "      <td>5</td>\n",
              "      <td>21.8425</td>\n",
              "      <td>458.6925</td>\n",
              "      <td>1/29/2019</td>\n",
              "      <td>19:45</td>\n",
              "      <td>Cash</td>\n",
              "      <td>436.85</td>\n",
              "      <td>4.761905</td>\n",
              "      <td>21.8425</td>\n",
              "      <td>6.6</td>\n",
              "    </tr>\n",
              "    <tr>\n",
              "      <th>557</th>\n",
              "      <td>283-26-5248</td>\n",
              "      <td>C</td>\n",
              "      <td>Naypyitaw</td>\n",
              "      <td>Member</td>\n",
              "      <td>Female</td>\n",
              "      <td>Food and beverages</td>\n",
              "      <td>98.52</td>\n",
              "      <td>10</td>\n",
              "      <td>49.2600</td>\n",
              "      <td>1034.4600</td>\n",
              "      <td>1/30/2019</td>\n",
              "      <td>20:23</td>\n",
              "      <td>Ewallet</td>\n",
              "      <td>985.20</td>\n",
              "      <td>4.761905</td>\n",
              "      <td>49.2600</td>\n",
              "      <td>4.5</td>\n",
              "    </tr>\n",
              "    <tr>\n",
              "      <th>836</th>\n",
              "      <td>288-62-1085</td>\n",
              "      <td>A</td>\n",
              "      <td>Yangon</td>\n",
              "      <td>Member</td>\n",
              "      <td>Male</td>\n",
              "      <td>Fashion accessories</td>\n",
              "      <td>38.54</td>\n",
              "      <td>5</td>\n",
              "      <td>9.6350</td>\n",
              "      <td>202.3350</td>\n",
              "      <td>1/9/2019</td>\n",
              "      <td>13:34</td>\n",
              "      <td>Ewallet</td>\n",
              "      <td>192.70</td>\n",
              "      <td>4.761905</td>\n",
              "      <td>9.6350</td>\n",
              "      <td>5.6</td>\n",
              "    </tr>\n",
              "  </tbody>\n",
              "</table>\n",
              "</div>"
            ],
            "text/plain": [
              "      Invoice ID Branch  ... gross income Rating\n",
              "29   848-62-7243      A  ...      11.2005    7.4\n",
              "535  583-41-4548      C  ...       5.8345    7.4\n",
              "695  800-09-8606      A  ...      21.8425    6.6\n",
              "557  283-26-5248      C  ...      49.2600    4.5\n",
              "836  288-62-1085      A  ...       9.6350    5.6\n",
              "\n",
              "[5 rows x 17 columns]"
            ]
          },
          "metadata": {},
          "execution_count": 20
        }
      ]
    },
    {
      "cell_type": "code",
      "metadata": {
        "colab": {
          "base_uri": "https://localhost:8080/"
        },
        "id": "5XbJF4iIIiXN",
        "outputId": "c5472409-0af0-4908-a16f-9fbb61343593"
      },
      "source": [
        "df['Payment'].value_counts()"
      ],
      "execution_count": null,
      "outputs": [
        {
          "output_type": "execute_result",
          "data": {
            "text/plain": [
              "Ewallet        345\n",
              "Cash           344\n",
              "Credit card    311\n",
              "Name: Payment, dtype: int64"
            ]
          },
          "metadata": {},
          "execution_count": 40
        }
      ]
    },
    {
      "cell_type": "code",
      "metadata": {
        "id": "iMvahqbAKP52"
      },
      "source": [
        "# Hypothesis \n",
        "# 1. The most members are females and they have a \"good experience\" buying products of health and beauty.\n",
        "\n",
        "#KPI (Key performance indicators)\n",
        "\n",
        "# 2. The most people of X city buy Y product and they aren't members.\n",
        "# 3. The people of X city prefer to pay by Ewallet \n",
        "# 4. The male of X city prefer to buy Y product \n",
        "# 5. The most people in X date buying Y product\n"
      ],
      "execution_count": null,
      "outputs": []
    },
    {
      "cell_type": "code",
      "metadata": {
        "id": "w7FXoxGQQHIU"
      },
      "source": [
        "df_new = df.copy()"
      ],
      "execution_count": null,
      "outputs": []
    },
    {
      "cell_type": "code",
      "metadata": {
        "id": "YYjFVMiRRRE2"
      },
      "source": [
        "df_new = df.drop(['Time','Date','Invoice ID'],axis=1)"
      ],
      "execution_count": null,
      "outputs": []
    },
    {
      "cell_type": "code",
      "metadata": {
        "colab": {
          "base_uri": "https://localhost:8080/",
          "height": 343
        },
        "id": "FOq6BC4iRltf",
        "outputId": "6a1e6b11-71d7-4d1a-fcb3-1d8784d49a6d"
      },
      "source": [
        "df_new.head()"
      ],
      "execution_count": null,
      "outputs": [
        {
          "output_type": "execute_result",
          "data": {
            "text/html": [
              "<div>\n",
              "<style scoped>\n",
              "    .dataframe tbody tr th:only-of-type {\n",
              "        vertical-align: middle;\n",
              "    }\n",
              "\n",
              "    .dataframe tbody tr th {\n",
              "        vertical-align: top;\n",
              "    }\n",
              "\n",
              "    .dataframe thead th {\n",
              "        text-align: right;\n",
              "    }\n",
              "</style>\n",
              "<table border=\"1\" class=\"dataframe\">\n",
              "  <thead>\n",
              "    <tr style=\"text-align: right;\">\n",
              "      <th></th>\n",
              "      <th>Branch</th>\n",
              "      <th>City</th>\n",
              "      <th>Customer type</th>\n",
              "      <th>Gender</th>\n",
              "      <th>Product line</th>\n",
              "      <th>Unit price</th>\n",
              "      <th>Quantity</th>\n",
              "      <th>Tax 5%</th>\n",
              "      <th>Total</th>\n",
              "      <th>Payment</th>\n",
              "      <th>cogs</th>\n",
              "      <th>gross margin percentage</th>\n",
              "      <th>gross income</th>\n",
              "      <th>Rating</th>\n",
              "    </tr>\n",
              "  </thead>\n",
              "  <tbody>\n",
              "    <tr>\n",
              "      <th>0</th>\n",
              "      <td>A</td>\n",
              "      <td>Yangon</td>\n",
              "      <td>Member</td>\n",
              "      <td>Female</td>\n",
              "      <td>Health and beauty</td>\n",
              "      <td>74.69</td>\n",
              "      <td>7</td>\n",
              "      <td>26.1415</td>\n",
              "      <td>548.9715</td>\n",
              "      <td>Ewallet</td>\n",
              "      <td>522.83</td>\n",
              "      <td>4.761905</td>\n",
              "      <td>26.1415</td>\n",
              "      <td>9.1</td>\n",
              "    </tr>\n",
              "    <tr>\n",
              "      <th>1</th>\n",
              "      <td>C</td>\n",
              "      <td>Naypyitaw</td>\n",
              "      <td>Normal</td>\n",
              "      <td>Female</td>\n",
              "      <td>Electronic accessories</td>\n",
              "      <td>15.28</td>\n",
              "      <td>5</td>\n",
              "      <td>3.8200</td>\n",
              "      <td>80.2200</td>\n",
              "      <td>Cash</td>\n",
              "      <td>76.40</td>\n",
              "      <td>4.761905</td>\n",
              "      <td>3.8200</td>\n",
              "      <td>9.6</td>\n",
              "    </tr>\n",
              "    <tr>\n",
              "      <th>2</th>\n",
              "      <td>A</td>\n",
              "      <td>Yangon</td>\n",
              "      <td>Normal</td>\n",
              "      <td>Male</td>\n",
              "      <td>Home and lifestyle</td>\n",
              "      <td>46.33</td>\n",
              "      <td>7</td>\n",
              "      <td>16.2155</td>\n",
              "      <td>340.5255</td>\n",
              "      <td>Credit card</td>\n",
              "      <td>324.31</td>\n",
              "      <td>4.761905</td>\n",
              "      <td>16.2155</td>\n",
              "      <td>7.4</td>\n",
              "    </tr>\n",
              "    <tr>\n",
              "      <th>3</th>\n",
              "      <td>A</td>\n",
              "      <td>Yangon</td>\n",
              "      <td>Member</td>\n",
              "      <td>Male</td>\n",
              "      <td>Health and beauty</td>\n",
              "      <td>58.22</td>\n",
              "      <td>8</td>\n",
              "      <td>23.2880</td>\n",
              "      <td>489.0480</td>\n",
              "      <td>Ewallet</td>\n",
              "      <td>465.76</td>\n",
              "      <td>4.761905</td>\n",
              "      <td>23.2880</td>\n",
              "      <td>8.4</td>\n",
              "    </tr>\n",
              "    <tr>\n",
              "      <th>4</th>\n",
              "      <td>A</td>\n",
              "      <td>Yangon</td>\n",
              "      <td>Normal</td>\n",
              "      <td>Male</td>\n",
              "      <td>Sports and travel</td>\n",
              "      <td>86.31</td>\n",
              "      <td>7</td>\n",
              "      <td>30.2085</td>\n",
              "      <td>634.3785</td>\n",
              "      <td>Ewallet</td>\n",
              "      <td>604.17</td>\n",
              "      <td>4.761905</td>\n",
              "      <td>30.2085</td>\n",
              "      <td>5.3</td>\n",
              "    </tr>\n",
              "  </tbody>\n",
              "</table>\n",
              "</div>"
            ],
            "text/plain": [
              "  Branch       City  ... gross income Rating\n",
              "0      A     Yangon  ...      26.1415    9.1\n",
              "1      C  Naypyitaw  ...       3.8200    9.6\n",
              "2      A     Yangon  ...      16.2155    7.4\n",
              "3      A     Yangon  ...      23.2880    8.4\n",
              "4      A     Yangon  ...      30.2085    5.3\n",
              "\n",
              "[5 rows x 14 columns]"
            ]
          },
          "metadata": {},
          "execution_count": 72
        }
      ]
    },
    {
      "cell_type": "code",
      "metadata": {
        "id": "BlVeF0G6NVfz"
      },
      "source": [
        "from pandas.plotting import scatter_matrix"
      ],
      "execution_count": null,
      "outputs": []
    },
    {
      "cell_type": "code",
      "metadata": {
        "colab": {
          "base_uri": "https://localhost:8080/",
          "height": 938
        },
        "id": "dMYbPsgbNWMM",
        "outputId": "6c61b853-5a0e-48c9-9755-7d2ca4c854e0"
      },
      "source": [
        "att = [\"gross income\",\"Tax 5%\"]\n",
        "scatter_matrix(df[att],figsize=(10,10))"
      ],
      "execution_count": null,
      "outputs": [
        {
          "output_type": "execute_result",
          "data": {
            "text/plain": [
              "array([[<matplotlib.axes._subplots.AxesSubplot object at 0x7f986ce1c250>,\n",
              "        <matplotlib.axes._subplots.AxesSubplot object at 0x7f98726ef390>],\n",
              "       [<matplotlib.axes._subplots.AxesSubplot object at 0x7f986ce35dd0>,\n",
              "        <matplotlib.axes._subplots.AxesSubplot object at 0x7f986cdf6490>]],\n",
              "      dtype=object)"
            ]
          },
          "metadata": {},
          "execution_count": 92
        },
        {
          "output_type": "display_data",
          "data": {
            "image/png": "[encoded data removed]",
            "text/plain": [
              "<Figure size 1000x1000 with 4 Axes>"
            ]
          },
          "metadata": {}
        }
      ]
    },
    {
      "cell_type": "code",
      "metadata": {
        "colab": {
          "base_uri": "https://localhost:8080/",
          "height": 297
        },
        "id": "yHwSJrACNm_b",
        "outputId": "cf23695f-ebcb-440c-9bb4-66de8beb6e7b"
      },
      "source": [
        "df_new.corr()"
      ],
      "execution_count": null,
      "outputs": [
        {
          "output_type": "execute_result",
          "data": {
            "text/html": [
              "<div>\n",
              "<style scoped>\n",
              "    .dataframe tbody tr th:only-of-type {\n",
              "        vertical-align: middle;\n",
              "    }\n",
              "\n",
              "    .dataframe tbody tr th {\n",
              "        vertical-align: top;\n",
              "    }\n",
              "\n",
              "    .dataframe thead th {\n",
              "        text-align: right;\n",
              "    }\n",
              "</style>\n",
              "<table border=\"1\" class=\"dataframe\">\n",
              "  <thead>\n",
              "    <tr style=\"text-align: right;\">\n",
              "      <th></th>\n",
              "      <th>Unit price</th>\n",
              "      <th>Quantity</th>\n",
              "      <th>Tax 5%</th>\n",
              "      <th>Total</th>\n",
              "      <th>cogs</th>\n",
              "      <th>gross margin percentage</th>\n",
              "      <th>gross income</th>\n",
              "      <th>Rating</th>\n",
              "    </tr>\n",
              "  </thead>\n",
              "  <tbody>\n",
              "    <tr>\n",
              "      <th>Unit price</th>\n",
              "      <td>1.000000e+00</td>\n",
              "      <td>1.077756e-02</td>\n",
              "      <td>6.339621e-01</td>\n",
              "      <td>6.339621e-01</td>\n",
              "      <td>6.339621e-01</td>\n",
              "      <td>-6.998957e-16</td>\n",
              "      <td>6.339621e-01</td>\n",
              "      <td>-8.777507e-03</td>\n",
              "    </tr>\n",
              "    <tr>\n",
              "      <th>Quantity</th>\n",
              "      <td>1.077756e-02</td>\n",
              "      <td>1.000000e+00</td>\n",
              "      <td>7.055102e-01</td>\n",
              "      <td>7.055102e-01</td>\n",
              "      <td>7.055102e-01</td>\n",
              "      <td>-3.849075e-16</td>\n",
              "      <td>7.055102e-01</td>\n",
              "      <td>-1.581490e-02</td>\n",
              "    </tr>\n",
              "    <tr>\n",
              "      <th>Tax 5%</th>\n",
              "      <td>6.339621e-01</td>\n",
              "      <td>7.055102e-01</td>\n",
              "      <td>1.000000e+00</td>\n",
              "      <td>1.000000e+00</td>\n",
              "      <td>1.000000e+00</td>\n",
              "      <td>2.461896e-16</td>\n",
              "      <td>1.000000e+00</td>\n",
              "      <td>-3.644170e-02</td>\n",
              "    </tr>\n",
              "    <tr>\n",
              "      <th>Total</th>\n",
              "      <td>6.339621e-01</td>\n",
              "      <td>7.055102e-01</td>\n",
              "      <td>1.000000e+00</td>\n",
              "      <td>1.000000e+00</td>\n",
              "      <td>1.000000e+00</td>\n",
              "      <td>2.408632e-16</td>\n",
              "      <td>1.000000e+00</td>\n",
              "      <td>-3.644170e-02</td>\n",
              "    </tr>\n",
              "    <tr>\n",
              "      <th>cogs</th>\n",
              "      <td>6.339621e-01</td>\n",
              "      <td>7.055102e-01</td>\n",
              "      <td>1.000000e+00</td>\n",
              "      <td>1.000000e+00</td>\n",
              "      <td>1.000000e+00</td>\n",
              "      <td>1.439279e-15</td>\n",
              "      <td>1.000000e+00</td>\n",
              "      <td>-3.644170e-02</td>\n",
              "    </tr>\n",
              "    <tr>\n",
              "      <th>gross margin percentage</th>\n",
              "      <td>-6.998957e-16</td>\n",
              "      <td>-3.849075e-16</td>\n",
              "      <td>2.461896e-16</td>\n",
              "      <td>2.408632e-16</td>\n",
              "      <td>1.439279e-15</td>\n",
              "      <td>1.000000e+00</td>\n",
              "      <td>2.461896e-16</td>\n",
              "      <td>2.042714e-15</td>\n",
              "    </tr>\n",
              "    <tr>\n",
              "      <th>gross income</th>\n",
              "      <td>6.339621e-01</td>\n",
              "      <td>7.055102e-01</td>\n",
              "      <td>1.000000e+00</td>\n",
              "      <td>1.000000e+00</td>\n",
              "      <td>1.000000e+00</td>\n",
              "      <td>2.461896e-16</td>\n",
              "      <td>1.000000e+00</td>\n",
              "      <td>-3.644170e-02</td>\n",
              "    </tr>\n",
              "    <tr>\n",
              "      <th>Rating</th>\n",
              "      <td>-8.777507e-03</td>\n",
              "      <td>-1.581490e-02</td>\n",
              "      <td>-3.644170e-02</td>\n",
              "      <td>-3.644170e-02</td>\n",
              "      <td>-3.644170e-02</td>\n",
              "      <td>2.042714e-15</td>\n",
              "      <td>-3.644170e-02</td>\n",
              "      <td>1.000000e+00</td>\n",
              "    </tr>\n",
              "  </tbody>\n",
              "</table>\n",
              "</div>"
            ],
            "text/plain": [
              "                           Unit price      Quantity  ...  gross income        Rating\n",
              "Unit price               1.000000e+00  1.077756e-02  ...  6.339621e-01 -8.777507e-03\n",
              "Quantity                 1.077756e-02  1.000000e+00  ...  7.055102e-01 -1.581490e-02\n",
              "Tax 5%                   6.339621e-01  7.055102e-01  ...  1.000000e+00 -3.644170e-02\n",
              "Total                    6.339621e-01  7.055102e-01  ...  1.000000e+00 -3.644170e-02\n",
              "cogs                     6.339621e-01  7.055102e-01  ...  1.000000e+00 -3.644170e-02\n",
              "gross margin percentage -6.998957e-16 -3.849075e-16  ...  2.461896e-16  2.042714e-15\n",
              "gross income             6.339621e-01  7.055102e-01  ...  1.000000e+00 -3.644170e-02\n",
              "Rating                  -8.777507e-03 -1.581490e-02  ... -3.644170e-02  1.000000e+00\n",
              "\n",
              "[8 rows x 8 columns]"
            ]
          },
          "metadata": {},
          "execution_count": 90
        }
      ]
    },
    {
      "cell_type": "code",
      "metadata": {
        "id": "lnv_SMxtTJiU"
      },
      "source": [
        ""
      ],
      "execution_count": null,
      "outputs": []
    },
    {
      "cell_type": "code",
      "metadata": {
        "id": "91dYDvpgTS0Y"
      },
      "source": [
        ""
      ],
      "execution_count": null,
      "outputs": []
    }
  ]
}